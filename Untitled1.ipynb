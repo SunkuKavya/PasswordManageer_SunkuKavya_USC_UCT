{
  "nbformat": 4,
  "nbformat_minor": 0,
  "metadata": {
    "colab": {
      "provenance": [],
      "authorship_tag": "ABX9TyOx5HKEfFhgUQ94ecpvrfbC",
      "include_colab_link": true
    },
    "kernelspec": {
      "name": "python3",
      "display_name": "Python 3"
    },
    "language_info": {
      "name": "python"
    }
  },
  "cells": [
    {
      "cell_type": "markdown",
      "metadata": {
        "id": "view-in-github",
        "colab_type": "text"
      },
      "source": [
        "<a href=\"https://colab.research.google.com/github/SunkuKavya/PasswordManageer_SunkuKavya_USC_UCT/blob/main/Untitled1.ipynb\" target=\"_parent\"><img src=\"https://colab.research.google.com/assets/colab-badge.svg\" alt=\"Open In Colab\"/></a>"
      ]
    },
    {
      "cell_type": "code",
      "execution_count": 1,
      "metadata": {
        "id": "9eRF_yvGyPM7"
      },
      "outputs": [],
      "source": [
        "import pandas as pd"
      ]
    },
    {
      "cell_type": "code",
      "source": [
        "import numpy as np"
      ],
      "metadata": {
        "id": "IfmrsNoYyRCd"
      },
      "execution_count": 2,
      "outputs": []
    },
    {
      "cell_type": "code",
      "source": [
        "import matplotlib.pyplot as plt\n"
      ],
      "metadata": {
        "id": "5hTbC3opyWDr"
      },
      "execution_count": 3,
      "outputs": []
    },
    {
      "cell_type": "code",
      "source": [
        "from sklearn.datasets import load_digits"
      ],
      "metadata": {
        "id": "nnhZ8JAkyZEL"
      },
      "execution_count": 4,
      "outputs": []
    },
    {
      "cell_type": "code",
      "source": [
        "df=load_digits()"
      ],
      "metadata": {
        "id": "LSjNolhjycnt"
      },
      "execution_count": 5,
      "outputs": []
    },
    {
      "cell_type": "code",
      "source": [
        "_, axes=plt.subplots(nrows=1,ncols=4,figsize=(10,3))\n",
        "for ax, image, label in zip(axes,df.images, df.target):\n",
        "  ax.set_axis_off()\n",
        "  ax.imshow(image,cmap=plt.cm.gray_r, interpolation=\"nearest\")\n",
        "  ax.set_title(\"training: %i\" % label)\n"
      ],
      "metadata": {
        "colab": {
          "base_uri": "https://localhost:8080/",
          "height": 183
        },
        "id": "XKSeBWbiyfob",
        "outputId": "898b065a-ff81-42d4-c0bc-ce46485d0753"
      },
      "execution_count": 6,
      "outputs": [
        {
          "output_type": "display_data",
          "data": {
            "text/plain": [
              "<Figure size 1000x300 with 4 Axes>"
            ],
            "image/png": "[encoded data removed]"
          },
          "metadata": {}
        }
      ]
    },
    {
      "cell_type": "code",
      "source": [
        "df.images.shape\n"
      ],
      "metadata": {
        "colab": {
          "base_uri": "https://localhost:8080/"
        },
        "id": "f4rqtWBayjVH",
        "outputId": "221aedb7-9595-4893-df2a-065c8c024ff9"
      },
      "execution_count": 7,
      "outputs": [
        {
          "output_type": "execute_result",
          "data": {
            "text/plain": [
              "(1797, 8, 8)"
            ]
          },
          "metadata": {},
          "execution_count": 7
        }
      ]
    },
    {
      "cell_type": "code",
      "source": [
        "df.images[0]"
      ],
      "metadata": {
        "colab": {
          "base_uri": "https://localhost:8080/"
        },
        "id": "-pfMf28oyp8y",
        "outputId": "7d0b1be0-7232-42d9-9afd-c92b35b81d3f"
      },
      "execution_count": 8,
      "outputs": [
        {
          "output_type": "execute_result",
          "data": {
            "text/plain": [
              "array([[ 0.,  0.,  5., 13.,  9.,  1.,  0.,  0.],\n",
              "       [ 0.,  0., 13., 15., 10., 15.,  5.,  0.],\n",
              "       [ 0.,  3., 15.,  2.,  0., 11.,  8.,  0.],\n",
              "       [ 0.,  4., 12.,  0.,  0.,  8.,  8.,  0.],\n",
              "       [ 0.,  5.,  8.,  0.,  0.,  9.,  8.,  0.],\n",
              "       [ 0.,  4., 11.,  0.,  1., 12.,  7.,  0.],\n",
              "       [ 0.,  2., 14.,  5., 10., 12.,  0.,  0.],\n",
              "       [ 0.,  0.,  6., 13., 10.,  0.,  0.,  0.]])"
            ]
          },
          "metadata": {},
          "execution_count": 8
        }
      ]
    },
    {
      "cell_type": "code",
      "source": [
        "len(df.images)"
      ],
      "metadata": {
        "colab": {
          "base_uri": "https://localhost:8080/"
        },
        "id": "yykfsjh_ytzt",
        "outputId": "918cb7b6-85a7-464b-c83e-47fd610068ca"
      },
      "execution_count": 9,
      "outputs": [
        {
          "output_type": "execute_result",
          "data": {
            "text/plain": [
              "1797"
            ]
          },
          "metadata": {},
          "execution_count": 9
        }
      ]
    },
    {
      "cell_type": "code",
      "source": [
        "n_samples=len(df.images)\n",
        "data=df.images.reshape((n_samples,-1))"
      ],
      "metadata": {
        "id": "bfr7if-0yx45"
      },
      "execution_count": 11,
      "outputs": []
    },
    {
      "cell_type": "code",
      "source": [
        "data[0]"
      ],
      "metadata": {
        "colab": {
          "base_uri": "https://localhost:8080/"
        },
        "id": "EtZWRwNTy06D",
        "outputId": "00c901f0-0e66-4903-f3e1-266c0c65fce3"
      },
      "execution_count": 12,
      "outputs": [
        {
          "output_type": "execute_result",
          "data": {
            "text/plain": [
              "array([ 0.,  0.,  5., 13.,  9.,  1.,  0.,  0.,  0.,  0., 13., 15., 10.,\n",
              "       15.,  5.,  0.,  0.,  3., 15.,  2.,  0., 11.,  8.,  0.,  0.,  4.,\n",
              "       12.,  0.,  0.,  8.,  8.,  0.,  0.,  5.,  8.,  0.,  0.,  9.,  8.,\n",
              "        0.,  0.,  4., 11.,  0.,  1., 12.,  7.,  0.,  0.,  2., 14.,  5.,\n",
              "       10., 12.,  0.,  0.,  0.,  0.,  6., 13., 10.,  0.,  0.,  0.])"
            ]
          },
          "metadata": {},
          "execution_count": 12
        }
      ]
    },
    {
      "cell_type": "code",
      "source": [
        "data.shape"
      ],
      "metadata": {
        "colab": {
          "base_uri": "https://localhost:8080/"
        },
        "id": "iZTcJqvsy5pK",
        "outputId": "1cdfe324-5566-478c-f84e-de212775fc67"
      },
      "execution_count": 13,
      "outputs": [
        {
          "output_type": "execute_result",
          "data": {
            "text/plain": [
              "(1797, 64)"
            ]
          },
          "metadata": {},
          "execution_count": 13
        }
      ]
    },
    {
      "cell_type": "code",
      "source": [
        "data.max()\n"
      ],
      "metadata": {
        "colab": {
          "base_uri": "https://localhost:8080/"
        },
        "id": "fwWfCepPy97p",
        "outputId": "8d3bfd3a-f3c4-4be5-835e-bf03cfaa3e68"
      },
      "execution_count": 15,
      "outputs": [
        {
          "output_type": "execute_result",
          "data": {
            "text/plain": [
              "16.0"
            ]
          },
          "metadata": {},
          "execution_count": 15
        }
      ]
    },
    {
      "cell_type": "code",
      "source": [
        "data.min()"
      ],
      "metadata": {
        "colab": {
          "base_uri": "https://localhost:8080/"
        },
        "id": "rZ_vC0MRzDLb",
        "outputId": "80a3eb81-4f35-4c61-99e7-c5b41845cd8e"
      },
      "execution_count": 16,
      "outputs": [
        {
          "output_type": "execute_result",
          "data": {
            "text/plain": [
              "0.0"
            ]
          },
          "metadata": {},
          "execution_count": 16
        }
      ]
    },
    {
      "cell_type": "code",
      "source": [
        "data=data/16"
      ],
      "metadata": {
        "id": "-vusVG6izFv3"
      },
      "execution_count": 17,
      "outputs": []
    },
    {
      "cell_type": "code",
      "source": [
        "data.min()"
      ],
      "metadata": {
        "colab": {
          "base_uri": "https://localhost:8080/"
        },
        "id": "rtLeqZSMzHte",
        "outputId": "80eb2508-b23f-4a50-8542-fd76b8d92038"
      },
      "execution_count": 18,
      "outputs": [
        {
          "output_type": "execute_result",
          "data": {
            "text/plain": [
              "0.0"
            ]
          },
          "metadata": {},
          "execution_count": 18
        }
      ]
    },
    {
      "cell_type": "code",
      "source": [
        "data.max()"
      ],
      "metadata": {
        "colab": {
          "base_uri": "https://localhost:8080/"
        },
        "id": "Xn-TAZsZzLdX",
        "outputId": "fce849e8-4417-4362-8f81-c7a490bd2802"
      },
      "execution_count": 19,
      "outputs": [
        {
          "output_type": "execute_result",
          "data": {
            "text/plain": [
              "1.0"
            ]
          },
          "metadata": {},
          "execution_count": 19
        }
      ]
    },
    {
      "cell_type": "code",
      "source": [
        "data[0]"
      ],
      "metadata": {
        "colab": {
          "base_uri": "https://localhost:8080/"
        },
        "id": "-D-qREdIzN0W",
        "outputId": "ab8f606c-26f4-4099-e207-d7197ce0d5e7"
      },
      "execution_count": 20,
      "outputs": [
        {
          "output_type": "execute_result",
          "data": {
            "text/plain": [
              "array([0.    , 0.    , 0.3125, 0.8125, 0.5625, 0.0625, 0.    , 0.    ,\n",
              "       0.    , 0.    , 0.8125, 0.9375, 0.625 , 0.9375, 0.3125, 0.    ,\n",
              "       0.    , 0.1875, 0.9375, 0.125 , 0.    , 0.6875, 0.5   , 0.    ,\n",
              "       0.    , 0.25  , 0.75  , 0.    , 0.    , 0.5   , 0.5   , 0.    ,\n",
              "       0.    , 0.3125, 0.5   , 0.    , 0.    , 0.5625, 0.5   , 0.    ,\n",
              "       0.    , 0.25  , 0.6875, 0.    , 0.0625, 0.75  , 0.4375, 0.    ,\n",
              "       0.    , 0.125 , 0.875 , 0.3125, 0.625 , 0.75  , 0.    , 0.    ,\n",
              "       0.    , 0.    , 0.375 , 0.8125, 0.625 , 0.    , 0.    , 0.    ])"
            ]
          },
          "metadata": {},
          "execution_count": 20
        }
      ]
    },
    {
      "cell_type": "code",
      "source": [
        "from sklearn.model_selection import train_test_split"
      ],
      "metadata": {
        "id": "U-OvJ3zFzRPc"
      },
      "execution_count": 21,
      "outputs": []
    },
    {
      "cell_type": "code",
      "source": [
        "x_train,x_test,y_train,y_test=train_test_split(data,df.target,test_size=0.3)"
      ],
      "metadata": {
        "id": "jAKPjvflzWQV"
      },
      "execution_count": 22,
      "outputs": []
    },
    {
      "cell_type": "code",
      "source": [
        "from sklearn.ensemble import RandomForestClassifier\n"
      ],
      "metadata": {
        "id": "6H2AJx1izZTe"
      },
      "execution_count": 23,
      "outputs": []
    },
    {
      "cell_type": "code",
      "source": [
        "rf=RandomForestClassifier()"
      ],
      "metadata": {
        "id": "WS2kQMTVzcUq"
      },
      "execution_count": 24,
      "outputs": []
    },
    {
      "cell_type": "code",
      "source": [
        "rf.fit(x_train,y_train)"
      ],
      "metadata": {
        "colab": {
          "base_uri": "https://localhost:8080/",
          "height": 74
        },
        "id": "-8aqyxfMzfTW",
        "outputId": "a4c5a766-ff3e-4f68-91bd-f9d2054de823"
      },
      "execution_count": 25,
      "outputs": [
        {
          "output_type": "execute_result",
          "data": {
            "text/plain": [
              "RandomForestClassifier()"
            ],
            "text/html": [
              "<style>#sk-container-id-1 {color: black;background-color: white;}#sk-container-id-1 pre{padding: 0;}#sk-container-id-1 div.sk-toggleable {background-color: white;}#sk-container-id-1 label.sk-toggleable__label {cursor: pointer;display: block;width: 100%;margin-bottom: 0;padding: 0.3em;box-sizing: border-box;text-align: center;}#sk-container-id-1 label.sk-toggleable__label-arrow:before {content: \"▸\";float: left;margin-right: 0.25em;color: #696969;}#sk-container-id-1 label.sk-toggleable__label-arrow:hover:before {color: black;}#sk-container-id-1 div.sk-estimator:hover label.sk-toggleable__label-arrow:before {color: black;}#sk-container-id-1 div.sk-toggleable__content {max-height: 0;max-width: 0;overflow: hidden;text-align: left;background-color: #f0f8ff;}#sk-container-id-1 div.sk-toggleable__content pre {margin: 0.2em;color: black;border-radius: 0.25em;background-color: #f0f8ff;}#sk-container-id-1 input.sk-toggleable__control:checked~div.sk-toggleable__content {max-height: 200px;max-width: 100%;overflow: auto;}#sk-container-id-1 input.sk-toggleable__control:checked~label.sk-toggleable__label-arrow:before {content: \"▾\";}#sk-container-id-1 div.sk-estimator input.sk-toggleable__control:checked~label.sk-toggleable__label {background-color: #d4ebff;}#sk-container-id-1 div.sk-label input.sk-toggleable__control:checked~label.sk-toggleable__label {background-color: #d4ebff;}#sk-container-id-1 input.sk-hidden--visually {border: 0;clip: rect(1px 1px 1px 1px);clip: rect(1px, 1px, 1px, 1px);height: 1px;margin: -1px;overflow: hidden;padding: 0;position: absolute;width: 1px;}#sk-container-id-1 div.sk-estimator {font-family: monospace;background-color: #f0f8ff;border: 1px dotted black;border-radius: 0.25em;box-sizing: border-box;margin-bottom: 0.5em;}#sk-container-id-1 div.sk-estimator:hover {background-color: #d4ebff;}#sk-container-id-1 div.sk-parallel-item::after {content: \"\";width: 100%;border-bottom: 1px solid gray;flex-grow: 1;}#sk-container-id-1 div.sk-label:hover label.sk-toggleable__label {background-color: #d4ebff;}#sk-container-id-1 div.sk-serial::before {content: \"\";position: absolute;border-left: 1px solid gray;box-sizing: border-box;top: 0;bottom: 0;left: 50%;z-index: 0;}#sk-container-id-1 div.sk-serial {display: flex;flex-direction: column;align-items: center;background-color: white;padding-right: 0.2em;padding-left: 0.2em;position: relative;}#sk-container-id-1 div.sk-item {position: relative;z-index: 1;}#sk-container-id-1 div.sk-parallel {display: flex;align-items: stretch;justify-content: center;background-color: white;position: relative;}#sk-container-id-1 div.sk-item::before, #sk-container-id-1 div.sk-parallel-item::before {content: \"\";position: absolute;border-left: 1px solid gray;box-sizing: border-box;top: 0;bottom: 0;left: 50%;z-index: -1;}#sk-container-id-1 div.sk-parallel-item {display: flex;flex-direction: column;z-index: 1;position: relative;background-color: white;}#sk-container-id-1 div.sk-parallel-item:first-child::after {align-self: flex-end;width: 50%;}#sk-container-id-1 div.sk-parallel-item:last-child::after {align-self: flex-start;width: 50%;}#sk-container-id-1 div.sk-parallel-item:only-child::after {width: 0;}#sk-container-id-1 div.sk-dashed-wrapped {border: 1px dashed gray;margin: 0 0.4em 0.5em 0.4em;box-sizing: border-box;padding-bottom: 0.4em;background-color: white;}#sk-container-id-1 div.sk-label label {font-family: monospace;font-weight: bold;display: inline-block;line-height: 1.2em;}#sk-container-id-1 div.sk-label-container {text-align: center;}#sk-container-id-1 div.sk-container {/* jupyter's `normalize.less` sets `[hidden] { display: none; }` but bootstrap.min.css set `[hidden] { display: none !important; }` so we also need the `!important` here to be able to override the default hidden behavior on the sphinx rendered scikit-learn.org. See: https://github.com/scikit-learn/scikit-learn/issues/21755 */display: inline-block !important;position: relative;}#sk-container-id-1 div.sk-text-repr-fallback {display: none;}</style><div id=\"sk-container-id-1\" class=\"sk-top-container\"><div class=\"sk-text-repr-fallback\"><pre>RandomForestClassifier()</pre><b>In a Jupyter environment, please rerun this cell to show the HTML representation or trust the notebook. <br />On GitHub, the HTML representation is unable to render, please try loading this page with nbviewer.org.</b></div><div class=\"sk-container\" hidden><div class=\"sk-item\"><div class=\"sk-estimator sk-toggleable\"><input class=\"sk-toggleable__control sk-hidden--visually\" id=\"sk-estimator-id-1\" type=\"checkbox\" checked><label for=\"sk-estimator-id-1\" class=\"sk-toggleable__label sk-toggleable__label-arrow\">RandomForestClassifier</label><div class=\"sk-toggleable__content\"><pre>RandomForestClassifier()</pre></div></div></div></div></div>"
            ]
          },
          "metadata": {},
          "execution_count": 25
        }
      ]
    },
    {
      "cell_type": "code",
      "source": [
        "y_pred=rf.predict(x_test)"
      ],
      "metadata": {
        "id": "0LipA9eqzg-V"
      },
      "execution_count": 26,
      "outputs": []
    },
    {
      "cell_type": "code",
      "source": [
        "y_pred"
      ],
      "metadata": {
        "colab": {
          "base_uri": "https://localhost:8080/"
        },
        "id": "ojLeNUGJzkYt",
        "outputId": "50fecb28-77d1-4085-c9c5-e5aa6aa2e630"
      },
      "execution_count": 27,
      "outputs": [
        {
          "output_type": "execute_result",
          "data": {
            "text/plain": [
              "array([0, 7, 4, 9, 5, 0, 9, 2, 5, 3, 4, 8, 4, 7, 1, 4, 5, 9, 0, 4, 9, 5,\n",
              "       6, 1, 1, 2, 9, 7, 6, 7, 8, 9, 0, 5, 2, 8, 4, 7, 6, 5, 5, 4, 7, 7,\n",
              "       9, 5, 9, 4, 3, 6, 3, 3, 9, 4, 0, 7, 7, 2, 5, 9, 7, 7, 0, 9, 5, 9,\n",
              "       2, 7, 6, 2, 2, 4, 6, 3, 0, 8, 3, 7, 2, 2, 0, 1, 8, 5, 6, 6, 9, 6,\n",
              "       3, 7, 3, 2, 1, 8, 4, 9, 5, 0, 3, 9, 5, 4, 0, 3, 4, 9, 0, 3, 5, 7,\n",
              "       7, 2, 6, 5, 4, 5, 5, 8, 9, 1, 1, 9, 9, 5, 6, 2, 9, 6, 9, 0, 7, 9,\n",
              "       2, 7, 0, 3, 0, 4, 1, 1, 2, 5, 3, 3, 5, 5, 7, 0, 1, 2, 8, 7, 1, 4,\n",
              "       4, 7, 4, 3, 6, 0, 7, 6, 2, 5, 8, 9, 1, 8, 5, 7, 0, 3, 7, 3, 4, 6,\n",
              "       5, 7, 5, 2, 4, 2, 2, 9, 8, 4, 4, 1, 3, 7, 5, 9, 8, 3, 5, 5, 0, 5,\n",
              "       5, 1, 6, 2, 8, 4, 9, 8, 6, 2, 8, 7, 2, 7, 4, 5, 6, 3, 2, 2, 2, 5,\n",
              "       3, 0, 5, 5, 6, 3, 6, 0, 4, 2, 2, 6, 6, 8, 9, 8, 9, 4, 5, 7, 3, 7,\n",
              "       3, 9, 8, 5, 6, 3, 6, 0, 5, 3, 5, 7, 1, 1, 9, 3, 1, 9, 5, 9, 0, 4,\n",
              "       8, 0, 3, 5, 3, 0, 4, 5, 3, 7, 1, 3, 5, 0, 8, 0, 4, 8, 7, 2, 4, 9,\n",
              "       4, 9, 8, 3, 8, 0, 8, 6, 1, 0, 7, 9, 8, 1, 6, 5, 6, 1, 0, 3, 4, 2,\n",
              "       0, 2, 7, 7, 0, 0, 1, 4, 4, 3, 8, 6, 9, 4, 5, 2, 4, 9, 3, 9, 6, 5,\n",
              "       5, 4, 1, 1, 3, 7, 9, 8, 9, 0, 1, 1, 7, 7, 2, 4, 0, 0, 3, 5, 7, 8,\n",
              "       3, 5, 2, 8, 1, 2, 5, 5, 1, 5, 7, 7, 8, 7, 0, 1, 8, 0, 1, 0, 7, 6,\n",
              "       0, 6, 3, 2, 7, 2, 8, 1, 5, 2, 2, 8, 1, 0, 5, 6, 7, 4, 9, 0, 4, 8,\n",
              "       4, 7, 7, 4, 7, 6, 7, 8, 4, 4, 7, 2, 4, 5, 2, 9, 2, 3, 3, 2, 1, 2,\n",
              "       4, 0, 2, 7, 0, 6, 2, 0, 2, 2, 3, 8, 5, 4, 7, 0, 3, 5, 9, 2, 0, 6,\n",
              "       8, 0, 0, 0, 7, 7, 4, 1, 7, 1, 3, 1, 8, 9, 6, 1, 9, 7, 7, 2, 2, 6,\n",
              "       7, 8, 9, 4, 9, 4, 8, 1, 3, 5, 1, 6, 7, 6, 6, 3, 1, 0, 4, 4, 6, 2,\n",
              "       2, 9, 1, 7, 2, 3, 1, 8, 1, 2, 7, 0, 8, 6, 2, 3, 2, 6, 8, 6, 2, 9,\n",
              "       0, 0, 5, 1, 1, 7, 2, 9, 0, 9, 2, 0, 2, 4, 7, 0, 2, 9, 9, 8, 0, 0,\n",
              "       5, 7, 2, 0, 1, 6, 1, 6, 3, 0, 6, 5])"
            ]
          },
          "metadata": {},
          "execution_count": 27
        }
      ]
    },
    {
      "cell_type": "code",
      "source": [
        "from sklearn.metrics import confusion_matrix,classification_report"
      ],
      "metadata": {
        "id": "NtpUZMM_zpVD"
      },
      "execution_count": 28,
      "outputs": []
    },
    {
      "cell_type": "code",
      "source": [
        "confusion_matrix(y_test,y_pred)"
      ],
      "metadata": {
        "colab": {
          "base_uri": "https://localhost:8080/"
        },
        "id": "bK9FY_A_ztjO",
        "outputId": "0e5feac6-53e4-4255-c293-0d4a9ab6dc40"
      },
      "execution_count": 29,
      "outputs": [
        {
          "output_type": "execute_result",
          "data": {
            "text/plain": [
              "array([[59,  0,  0,  0,  0,  0,  0,  0,  0,  0],\n",
              "       [ 0, 46,  0,  0,  0,  0,  0,  0,  0,  0],\n",
              "       [ 1,  0, 61,  0,  0,  0,  0,  0,  0,  0],\n",
              "       [ 0,  0,  0, 49,  0,  1,  0,  0,  0,  0],\n",
              "       [ 0,  0,  0,  0, 51,  0,  0,  2,  0,  0],\n",
              "       [ 0,  0,  0,  0,  1, 59,  0,  0,  0,  1],\n",
              "       [ 0,  0,  0,  0,  0,  0, 47,  0,  0,  0],\n",
              "       [ 0,  0,  0,  0,  0,  0,  0, 62,  1,  1],\n",
              "       [ 0,  1,  1,  0,  1,  0,  0,  1, 43,  1],\n",
              "       [ 0,  0,  0,  0,  0,  0,  0,  0,  0, 50]])"
            ]
          },
          "metadata": {},
          "execution_count": 29
        }
      ]
    },
    {
      "cell_type": "code",
      "source": [
        "print(classification_report(y_test,y_pred))\n"
      ],
      "metadata": {
        "colab": {
          "base_uri": "https://localhost:8080/"
        },
        "id": "I-E6VLkUzwQ0",
        "outputId": "365dd819-52ee-4aa7-a852-53a6e64a25bd"
      },
      "execution_count": 30,
      "outputs": [
        {
          "output_type": "stream",
          "name": "stdout",
          "text": [
            "              precision    recall  f1-score   support\n",
            "\n",
            "           0       0.98      1.00      0.99        59\n",
            "           1       0.98      1.00      0.99        46\n",
            "           2       0.98      0.98      0.98        62\n",
            "           3       1.00      0.98      0.99        50\n",
            "           4       0.96      0.96      0.96        53\n",
            "           5       0.98      0.97      0.98        61\n",
            "           6       1.00      1.00      1.00        47\n",
            "           7       0.95      0.97      0.96        64\n",
            "           8       0.98      0.90      0.93        48\n",
            "           9       0.94      1.00      0.97        50\n",
            "\n",
            "    accuracy                           0.98       540\n",
            "   macro avg       0.98      0.98      0.98       540\n",
            "weighted avg       0.98      0.98      0.98       540\n",
            "\n"
          ]
        }
      ]
    },
    {
      "cell_type": "code",
      "source": [],
      "metadata": {
        "id": "6EVyi5BlzyN4"
      },
      "execution_count": null,
      "outputs": []
    }
  ]
}